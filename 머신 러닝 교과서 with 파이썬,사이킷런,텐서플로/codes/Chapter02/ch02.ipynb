{
 "cells": [
  {
   "cell_type": "markdown",
   "source": [
    "# 파이썬으로 퍼셉트론 학습 알고리즘 구현하기"
   ],
   "metadata": {}
  },
  {
   "cell_type": "markdown",
   "source": [
    "## 객체 지향 퍼셉트론 API"
   ],
   "metadata": {}
  },
  {
   "cell_type": "code",
   "execution_count": 23,
   "source": [
    "import numpy as np\r\n",
    "\r\n",
    "\r\n",
    "class Perceptron(object):\r\n",
    "    \"\"\"퍼셉트론 분류기\r\n",
    "\r\n",
    "    매개변수\r\n",
    "    ------------\r\n",
    "    eta : float\r\n",
    "      학습률 (0.0과 1.0 사이)\r\n",
    "    n_iter : int\r\n",
    "      훈련 데이터셋 반복 횟수\r\n",
    "    random_state : int\r\n",
    "      가중치 무작위 초기화를 위한 난수 생성기 시드\r\n",
    "\r\n",
    "    속성\r\n",
    "    -----------\r\n",
    "    w_ : 1d-array\r\n",
    "      학습된 가중치\r\n",
    "    errors_ : list\r\n",
    "      에포크마다 누적된 분류 오류\r\n",
    "\r\n",
    "    \"\"\"\r\n",
    "    def __init__(self, eta=0.01, n_iter=50, random_state=1):\r\n",
    "        self.eta = eta\r\n",
    "        self.n_iter = n_iter\r\n",
    "        self.random_state = random_state\r\n",
    "\r\n",
    "    def fit(self, X, y):\r\n",
    "        \"\"\"훈련 데이터 학습\r\n",
    "\r\n",
    "        매개변수\r\n",
    "        ----------\r\n",
    "        X : {array-like}, shape = [n_samples, n_features]\r\n",
    "          n_samples개의 샘플과 n_features개의 특성으로 이루어진 훈련 데이터\r\n",
    "        y : array-like, shape = [n_samples]\r\n",
    "          타깃값\r\n",
    "\r\n",
    "        반환값\r\n",
    "        -------\r\n",
    "        self : object\r\n",
    "\r\n",
    "        \"\"\"\r\n",
    "        rgen = np.random.RandomState(self.random_state)\r\n",
    "        self.w_ = rgen.normal(loc=0.0, scale=0.01, size=1 + X.shape[1])\r\n",
    "        self.errors_ = []\r\n",
    "\r\n",
    "        for _ in range(self.n_iter):\r\n",
    "            errors = 0\r\n",
    "            for xi, target in zip(X, y):\r\n",
    "                update = self.eta * (target - self.predict(xi))\r\n",
    "                self.w_[1:] += update * xi\r\n",
    "                self.w_[0] += update\r\n",
    "                errors += int(update != 0.0)\r\n",
    "            self.errors_.append(errors)\r\n",
    "        return self\r\n",
    "\r\n",
    "    def net_input(self, X):\r\n",
    "        \"\"\"최종 입력 계산\"\"\"\r\n",
    "        return np.dot(X, self.w_[1:]) + self.w_[0]\r\n",
    "\r\n",
    "    def predict(self, X):\r\n",
    "        \"\"\"단위 계단 함수를 사용하여 클래스 레이블을 반환합니다\"\"\"\r\n",
    "        return np.where(self.net_input(X) >= 0.0, 1, -1)"
   ],
   "outputs": [],
   "metadata": {}
  },
  {
   "cell_type": "markdown",
   "source": [],
   "metadata": {}
  },
  {
   "cell_type": "code",
   "execution_count": 24,
   "source": [
    "v1 = np.array([1, 2, 3])\r\n",
    "v2 = 0.5 * v1\r\n",
    "np.arccos(v1.dot(v2) / (np.linalg.norm(v1) * np.linalg.norm(v2)))"
   ],
   "outputs": [
    {
     "output_type": "execute_result",
     "data": {
      "text/plain": [
       "0.0"
      ]
     },
     "metadata": {},
     "execution_count": 24
    }
   ],
   "metadata": {}
  },
  {
   "cell_type": "markdown",
   "source": [
    "# 붓꽃 데이터셋에서 퍼셉트론 훈련하기"
   ],
   "metadata": {}
  },
  {
   "cell_type": "markdown",
   "source": [
    "## 붓꽃 데이터셋 읽기"
   ],
   "metadata": {}
  },
  {
   "cell_type": "code",
   "execution_count": 25,
   "source": [
    "import pandas as pd\r\n",
    "\r\n",
    "df = pd.read_csv('https://archive.ics.uci.edu/ml/'\r\n",
    "        'machine-learning-databases/iris/iris.data', header=None)\r\n",
    "df.tail()"
   ],
   "outputs": [
    {
     "output_type": "execute_result",
     "data": {
      "text/html": [
       "<div>\n",
       "<style scoped>\n",
       "    .dataframe tbody tr th:only-of-type {\n",
       "        vertical-align: middle;\n",
       "    }\n",
       "\n",
       "    .dataframe tbody tr th {\n",
       "        vertical-align: top;\n",
       "    }\n",
       "\n",
       "    .dataframe thead th {\n",
       "        text-align: right;\n",
       "    }\n",
       "</style>\n",
       "<table border=\"1\" class=\"dataframe\">\n",
       "  <thead>\n",
       "    <tr style=\"text-align: right;\">\n",
       "      <th></th>\n",
       "      <th>0</th>\n",
       "      <th>1</th>\n",
       "      <th>2</th>\n",
       "      <th>3</th>\n",
       "      <th>4</th>\n",
       "    </tr>\n",
       "  </thead>\n",
       "  <tbody>\n",
       "    <tr>\n",
       "      <th>145</th>\n",
       "      <td>6.7</td>\n",
       "      <td>3.0</td>\n",
       "      <td>5.2</td>\n",
       "      <td>2.3</td>\n",
       "      <td>Iris-virginica</td>\n",
       "    </tr>\n",
       "    <tr>\n",
       "      <th>146</th>\n",
       "      <td>6.3</td>\n",
       "      <td>2.5</td>\n",
       "      <td>5.0</td>\n",
       "      <td>1.9</td>\n",
       "      <td>Iris-virginica</td>\n",
       "    </tr>\n",
       "    <tr>\n",
       "      <th>147</th>\n",
       "      <td>6.5</td>\n",
       "      <td>3.0</td>\n",
       "      <td>5.2</td>\n",
       "      <td>2.0</td>\n",
       "      <td>Iris-virginica</td>\n",
       "    </tr>\n",
       "    <tr>\n",
       "      <th>148</th>\n",
       "      <td>6.2</td>\n",
       "      <td>3.4</td>\n",
       "      <td>5.4</td>\n",
       "      <td>2.3</td>\n",
       "      <td>Iris-virginica</td>\n",
       "    </tr>\n",
       "    <tr>\n",
       "      <th>149</th>\n",
       "      <td>5.9</td>\n",
       "      <td>3.0</td>\n",
       "      <td>5.1</td>\n",
       "      <td>1.8</td>\n",
       "      <td>Iris-virginica</td>\n",
       "    </tr>\n",
       "  </tbody>\n",
       "</table>\n",
       "</div>"
      ],
      "text/plain": [
       "       0    1    2    3               4\n",
       "145  6.7  3.0  5.2  2.3  Iris-virginica\n",
       "146  6.3  2.5  5.0  1.9  Iris-virginica\n",
       "147  6.5  3.0  5.2  2.0  Iris-virginica\n",
       "148  6.2  3.4  5.4  2.3  Iris-virginica\n",
       "149  5.9  3.0  5.1  1.8  Iris-virginica"
      ]
     },
     "metadata": {},
     "execution_count": 25
    }
   ],
   "metadata": {}
  },
  {
   "cell_type": "markdown",
   "source": [
    "## 붓꽃 데이터 그래프 그리기"
   ],
   "metadata": {}
  },
  {
   "cell_type": "code",
   "execution_count": 26,
   "source": [
    "import matplotlib.pyplot as plt\r\n",
    "import numpy as np\r\n",
    "\r\n",
    "# setosa와 versicolor를 선택합니다\r\n",
    "y = df.iloc[0:100, 4].values\r\n",
    "y = np.where(y == 'Iris-setosa', -1, 1)\r\n",
    "\r\n",
    "# 꽃받침 길이와 꽃잎 길이를 추출합니다\r\n",
    "X = df.iloc[0:100, [0, 2]].values\r\n",
    "\r\n",
    "# 산점도를 그립니다\r\n",
    "plt.scatter(X[:50, 0], X[:50, 1],\r\n",
    "            color='red', marker='o', label='setosa')\r\n",
    "plt.scatter(X[50:100, 0], X[50:100, 1],\r\n",
    "            color='blue', marker='x', label='versicolor')\r\n",
    "\r\n",
    "plt.xlabel('sepal length [cm]')\r\n",
    "plt.ylabel('petal length [cm]')\r\n",
    "plt.legend(loc='upper left')\r\n",
    "\r\n",
    "plt.show()\r\n"
   ],
   "outputs": [
    {
     "output_type": "display_data",
     "data": {
      "image/png": "[encoded data removed]",
      "text/plain": [
       "<Figure size 432x288 with 1 Axes>"
      ]
     },
     "metadata": {
      "needs_background": "light"
     }
    }
   ],
   "metadata": {}
  },
  {
   "cell_type": "markdown",
   "source": [
    "## 퍼셉트론 모델 훈련하기"
   ],
   "metadata": {}
  },
  {
   "cell_type": "code",
   "execution_count": 27,
   "source": [
    "ppn = Perceptron(eta=0.1, n_iter=10)\r\n",
    "\r\n",
    "ppn.fit(X, y)\r\n",
    "\r\n",
    "plt.plot(range(1, len(ppn.errors_) + 1), ppn.errors_, marker='o')\r\n",
    "plt.xlabel('Epochs')\r\n",
    "plt.ylabel('Number of errors')\r\n",
    "\r\n",
    "plt.show()"
   ],
   "outputs": [
    {
     "output_type": "display_data",
     "data": {
      "image/png": "[encoded data removed]",
      "text/plain": [
       "<Figure size 432x288 with 1 Axes>"
      ]
     },
     "metadata": {
      "needs_background": "light"
     }
    }
   ],
   "metadata": {}
  },
  {
   "cell_type": "markdown",
   "source": [
    "## 결정 경계 그래프 함수"
   ],
   "metadata": {}
  },
  {
   "cell_type": "code",
   "execution_count": 28,
   "source": [
    "from matplotlib.colors import ListedColormap\r\n",
    "\r\n",
    "\r\n",
    "def plot_decision_regions(X, y, classifier, resolution=0.02):\r\n",
    "\r\n",
    "    # 마커와 컬러맵을 설정합니다\r\n",
    "    markers = ('s', 'x', 'o', '^', 'v')\r\n",
    "    colors = ('red', 'blue', 'lightgreen', 'gray', 'cyan')\r\n",
    "    cmap = ListedColormap(colors[:len(np.unique(y))])\r\n",
    "\r\n",
    "    # 결정 경계를 그립니다\r\n",
    "    x1_min, x1_max = X[:, 0].min() - 1, X[:, 0].max() + 1\r\n",
    "    x2_min, x2_max = X[:, 1].min() - 1, X[:, 1].max() + 1\r\n",
    "    xx1, xx2 = np.meshgrid(np.arange(x1_min, x1_max, resolution),\r\n",
    "                           np.arange(x2_min, x2_max, resolution))\r\n",
    "    Z = classifier.predict(np.array([xx1.ravel(), xx2.ravel()]).T)\r\n",
    "    Z = Z.reshape(xx1.shape)\r\n",
    "    plt.contourf(xx1, xx2, Z, alpha=0.3, cmap=cmap)\r\n",
    "    plt.xlim(xx1.min(), xx1.max())\r\n",
    "    plt.ylim(xx2.min(), xx2.max())\r\n",
    "\r\n",
    "    # 샘플의 산점도를 그립니다\r\n",
    "    for idx, cl in enumerate(np.unique(y)):\r\n",
    "        plt.scatter(x=X[y == cl, 0], \r\n",
    "                    y=X[y == cl, 1],\r\n",
    "                    alpha=0.8, \r\n",
    "                    c=colors[idx],\r\n",
    "                    marker=markers[idx], \r\n",
    "                    label=cl, \r\n",
    "                    edgecolor='black')"
   ],
   "outputs": [],
   "metadata": {}
  },
  {
   "cell_type": "code",
   "execution_count": 29,
   "source": [
    "plot_decision_regions(X, y, classifier=ppn)\r\n",
    "plt.xlabel('sepal length [cm]')\r\n",
    "plt.ylabel('petal length [cm]')\r\n",
    "plt.legend(loc='upper left')\r\n",
    " \r\n",
    "plt.show()"
   ],
   "outputs": [
    {
     "output_type": "stream",
     "name": "stderr",
     "text": [
      "C:\\Users\\xogns\\AppData\\Local\\Temp/ipykernel_8944/2584310068.py:24: UserWarning: You passed a edgecolor/edgecolors ('black') for an unfilled marker ('x').  Matplotlib is ignoring the edgecolor in favor of the facecolor.  This behavior may change in the future.\n",
      "  plt.scatter(x=X[y == cl, 0],\n"
     ]
    },
    {
     "output_type": "display_data",
     "data": {
      "image/png": "[encoded data removed]",
      "text/plain": [
       "<Figure size 432x288 with 1 Axes>"
      ]
     },
     "metadata": {
      "needs_background": "light"
     }
    }
   ],
   "metadata": {}
  },
  {
   "cell_type": "markdown",
   "source": [
    "# 적응형 선형 뉴런과 학습의 수렴"
   ],
   "metadata": {}
  },
  {
   "cell_type": "markdown",
   "source": [
    "## 파이썬으로 아달린 구현하기"
   ],
   "metadata": {}
  },
  {
   "cell_type": "code",
   "execution_count": 30,
   "source": [
    "class AdalineGD(object):\r\n",
    "    \"\"\"적응형 선형 뉴런 분류기\r\n",
    "\r\n",
    "    매개변수\r\n",
    "    ------------\r\n",
    "    eta : float\r\n",
    "      학습률 (0.0과 1.0 사이)\r\n",
    "    n_iter : int\r\n",
    "      훈련 데이터셋 반복 횟수\r\n",
    "    random_state : int\r\n",
    "      가중치 무작위 초기화를 위한 난수 생성기 시드\r\n",
    "\r\n",
    "    속성\r\n",
    "    -----------\r\n",
    "    w_ : 1d-array\r\n",
    "      학습된 가중치\r\n",
    "    cost_ : list\r\n",
    "      에포크마다 누적된 비용 함수의 제곱합\r\n",
    "\r\n",
    "    \"\"\"\r\n",
    "    def __init__(self, eta=0.01, n_iter=50, random_state=1):\r\n",
    "        self.eta = eta\r\n",
    "        self.n_iter = n_iter\r\n",
    "        self.random_state = random_state\r\n",
    "\r\n",
    "    def fit(self, X, y):\r\n",
    "        \"\"\"훈련 데이터 학습\r\n",
    "\r\n",
    "        매개변수\r\n",
    "        ----------\r\n",
    "        X : {array-like}, shape = [n_samples, n_features]\r\n",
    "          n_samples 개의 샘플과 n_features 개의 특성으로 이루어진 훈련 데이터\r\n",
    "        y : array-like, shape = [n_samples]\r\n",
    "          타깃값\r\n",
    "\r\n",
    "        반환값\r\n",
    "        -------\r\n",
    "        self : object\r\n",
    "\r\n",
    "        \"\"\"\r\n",
    "        rgen = np.random.RandomState(self.random_state)\r\n",
    "        self.w_ = rgen.normal(loc=0.0, scale=0.01, size=1 + X.shape[1])\r\n",
    "        self.cost_ = []\r\n",
    "\r\n",
    "        for i in range(self.n_iter):\r\n",
    "            net_input = self.net_input(X)\r\n",
    "            # Please note that the \"activation\" method has no effect\r\n",
    "            # in the code since it is simply an identity function. We\r\n",
    "            # could write `output = self.net_input(X)` directly instead.\r\n",
    "            # The purpose of the activation is more conceptual, i.e.,  \r\n",
    "            # in the case of logistic regression (as we will see later), \r\n",
    "            # we could change it to\r\n",
    "            # a sigmoid function to implement a logistic regression classifier.\r\n",
    "            output = self.activation(net_input)\r\n",
    "            errors = (y - output)\r\n",
    "            self.w_[1:] += self.eta * X.T.dot(errors)\r\n",
    "            self.w_[0] += self.eta * errors.sum()\r\n",
    "            cost = (errors**2).sum() / 2.0\r\n",
    "            self.cost_.append(cost)\r\n",
    "        return self\r\n",
    "\r\n",
    "    def net_input(self, X):\r\n",
    "        \"\"\"최종 입력 계산\"\"\"\r\n",
    "        return np.dot(X, self.w_[1:]) + self.w_[0]\r\n",
    "\r\n",
    "    def activation(self, X):\r\n",
    "        \"\"\"선형 활성화 계산\"\"\"\r\n",
    "        return X\r\n",
    "\r\n",
    "    def predict(self, X):\r\n",
    "        \"\"\"단위 계단 함수를 사용하여 클래스 레이블을 반환합니다\"\"\"\r\n",
    "        return np.where(self.activation(self.net_input(X)) >= 0.0, 1, -1)"
   ],
   "outputs": [],
   "metadata": {}
  },
  {
   "cell_type": "code",
   "execution_count": 31,
   "source": [
    "fig, ax = plt.subplots(nrows=1, ncols=2, figsize=(10, 4))\r\n",
    "\r\n",
    "ada1 = AdalineGD(n_iter=10, eta=0.01).fit(X, y)\r\n",
    "ax[0].plot(range(1, len(ada1.cost_) + 1), np.log10(ada1.cost_), marker='o')\r\n",
    "ax[0].set_xlabel('Epochs')\r\n",
    "ax[0].set_ylabel('log(Sum-squared-error)')\r\n",
    "ax[0].set_title('Adaline - Learning rate 0.01')\r\n",
    "\r\n",
    "ada2 = AdalineGD(n_iter=10, eta=0.0001).fit(X, y)\r\n",
    "ax[1].plot(range(1, len(ada2.cost_) + 1), ada2.cost_, marker='o')\r\n",
    "ax[1].set_xlabel('Epochs')\r\n",
    "ax[1].set_ylabel('Sum-squared-error')\r\n",
    "ax[1].set_title('Adaline - Learning rate 0.0001')\r\n",
    "\r\n",
    "plt.show()"
   ],
   "outputs": [
    {
     "output_type": "display_data",
     "data": {
      "image/png": "[encoded data removed]",
      "text/plain": [
       "<Figure size 720x288 with 2 Axes>"
      ]
     },
     "metadata": {
      "needs_background": "light"
     }
    }
   ],
   "metadata": {}
  },
  {
   "cell_type": "markdown",
   "source": [
    "## 특성 스케일을 조정하여 경사 하강법 결과 향상시키기"
   ],
   "metadata": {}
  },
  {
   "cell_type": "code",
   "execution_count": 32,
   "source": [
    "# 특성을 표준화합니다.\r\n",
    "X_std = np.copy(X)\r\n",
    "X_std[:, 0] = (X[:, 0] - X[:, 0].mean()) / X[:, 0].std()\r\n",
    "X_std[:, 1] = (X[:, 1] - X[:, 1].mean()) / X[:, 1].std()"
   ],
   "outputs": [],
   "metadata": {}
  },
  {
   "cell_type": "code",
   "execution_count": 33,
   "source": [
    "ada = AdalineGD(n_iter=15, eta=0.01)\r\n",
    "ada.fit(X_std, y)\r\n",
    "\r\n",
    "plot_decision_regions(X_std, y, classifier=ada)\r\n",
    "plt.title('Adaline - Gradient Descent')\r\n",
    "plt.xlabel('sepal length [standardized]')\r\n",
    "plt.ylabel('petal length [standardized]')\r\n",
    "plt.legend(loc='upper left')\r\n",
    "plt.tight_layout()\r\n",
    "plt.show()\r\n",
    "\r\n",
    "plt.plot(range(1, len(ada.cost_) + 1), ada.cost_, marker='o')\r\n",
    "plt.xlabel('Epochs')\r\n",
    "plt.ylabel('Sum-squared-error')\r\n",
    "\r\n",
    "plt.tight_layout()\r\n",
    "plt.show()\r\n"
   ],
   "outputs": [
    {
     "output_type": "stream",
     "name": "stderr",
     "text": [
      "C:\\Users\\xogns\\AppData\\Local\\Temp/ipykernel_8944/2584310068.py:24: UserWarning: You passed a edgecolor/edgecolors ('black') for an unfilled marker ('x').  Matplotlib is ignoring the edgecolor in favor of the facecolor.  This behavior may change in the future.\n",
      "  plt.scatter(x=X[y == cl, 0],\n"
     ]
    },
    {
     "output_type": "display_data",
     "data": {
      "image/png": "[encoded data removed]",
      "text/plain": [
       "<Figure size 432x288 with 1 Axes>"
      ]
     },
     "metadata": {
      "needs_background": "light"
     }
    },
    {
     "output_type": "display_data",
     "data": {
      "image/png": "[encoded data removed]",
      "text/plain": [
       "<Figure size 432x288 with 1 Axes>"
      ]
     },
     "metadata": {
      "needs_background": "light"
     }
    }
   ],
   "metadata": {}
  },
  {
   "cell_type": "markdown",
   "source": [
    "## 대규모 머신 러닝과 확률적 경사 하강법"
   ],
   "metadata": {}
  },
  {
   "cell_type": "code",
   "execution_count": 34,
   "source": [
    "class AdalineSGD(object):\r\n",
    "    \"\"\"ADAptive LInear NEuron 분류기\r\n",
    "\r\n",
    "    Parameters\r\n",
    "    ------------\r\n",
    "    eta : float\r\n",
    "      학습률 (0.0과 1.0 사이)\r\n",
    "    n_iter : int\r\n",
    "      훈련 데이터셋 반복 횟수\r\n",
    "    shuffle : bool (default: True)\r\n",
    "      True로 설정하면 같은 반복이 되지 않도록 에포크마다 훈련 데이터를 섞습니다\r\n",
    "    random_state : int\r\n",
    "      가중치 무작위 초기화를 위한 난수 생성기 시드\r\n",
    "\r\n",
    "    Attributes\r\n",
    "    -----------\r\n",
    "    w_ : 1d-array\r\n",
    "      학습된 가중치\r\n",
    "    cost_ : list\r\n",
    "      모든 훈련 샘플에 대해 에포크마다 누적된 평균 비용 함수의 제곱합\r\n",
    "\r\n",
    "    \"\"\"\r\n",
    "    def __init__(self, eta=0.01, n_iter=10, shuffle=True, random_state=None):\r\n",
    "        self.eta = eta\r\n",
    "        self.n_iter = n_iter\r\n",
    "        self.w_initialized = False\r\n",
    "        self.shuffle = shuffle\r\n",
    "        self.random_state = random_state\r\n",
    "        \r\n",
    "    def fit(self, X, y):\r\n",
    "        \"\"\"훈련 데이터 학습\r\n",
    "\r\n",
    "        Parameters\r\n",
    "        ----------\r\n",
    "        X : {array-like}, shape = [n_samples, n_features]\r\n",
    "          n_samples 개의 샘플과 n_features 개의 특성으로 이루어진 훈련 데이터\r\n",
    "        y : array-like, shape = [n_samples]\r\n",
    "          타깃 벡터\r\n",
    "\r\n",
    "        반환값\r\n",
    "        -------\r\n",
    "        self : object\r\n",
    "\r\n",
    "        \"\"\"\r\n",
    "        self._initialize_weights(X.shape[1])\r\n",
    "        self.cost_ = []\r\n",
    "        for i in range(self.n_iter):\r\n",
    "            if self.shuffle:\r\n",
    "                X, y = self._shuffle(X, y)\r\n",
    "            cost = []\r\n",
    "            for xi, target in zip(X, y):\r\n",
    "                cost.append(self._update_weights(xi, target))\r\n",
    "            avg_cost = sum(cost) / len(y)\r\n",
    "            self.cost_.append(avg_cost)\r\n",
    "        return self\r\n",
    "\r\n",
    "    def partial_fit(self, X, y):\r\n",
    "        \"\"\"가중치를 다시 초기화하지 않고 훈련 데이터를 학습합니다\"\"\"\r\n",
    "        if not self.w_initialized:\r\n",
    "            self._initialize_weights(X.shape[1])\r\n",
    "        if y.ravel().shape[0] > 1:\r\n",
    "            for xi, target in zip(X, y):\r\n",
    "                self._update_weights(xi, target)\r\n",
    "        else:\r\n",
    "            self._update_weights(X, y)\r\n",
    "        return self\r\n",
    "\r\n",
    "    def _shuffle(self, X, y):\r\n",
    "        \"\"\"훈련 데이터를 섞습니다\"\"\"\r\n",
    "        r = self.rgen.permutation(len(y))\r\n",
    "        return X[r], y[r]\r\n",
    "    \r\n",
    "    def _initialize_weights(self, m):\r\n",
    "        \"\"\"랜덤한 작은 수로 가중치를 초기화합니다\"\"\"\r\n",
    "        self.rgen = np.random.RandomState(self.random_state)\r\n",
    "        self.w_ = self.rgen.normal(loc=0.0, scale=0.01, size=1 + m)\r\n",
    "        self.w_initialized = True\r\n",
    "        \r\n",
    "    def _update_weights(self, xi, target):\r\n",
    "        \"\"\"아달린 학습 규칙을 적용하여 가중치를 업데이트합니다\"\"\"\r\n",
    "        output = self.activation(self.net_input(xi))\r\n",
    "        error = (target - output)\r\n",
    "        self.w_[1:] += self.eta * xi.dot(error)\r\n",
    "        self.w_[0] += self.eta * error\r\n",
    "        cost = 0.5 * error**2\r\n",
    "        return cost\r\n",
    "    \r\n",
    "    def net_input(self, X):\r\n",
    "        \"\"\"최종 입력 계산\"\"\"\r\n",
    "        return np.dot(X, self.w_[1:]) + self.w_[0]\r\n",
    "\r\n",
    "    def activation(self, X):\r\n",
    "        \"\"\"선형 활성화 계산\"\"\"\r\n",
    "        return X\r\n",
    "\r\n",
    "    def predict(self, X):\r\n",
    "        \"\"\"단위 계단 함수를 사용하여 클래스 레이블을 반환합니다\"\"\"\r\n",
    "        return np.where(self.activation(self.net_input(X)) >= 0.0, 1, -1)"
   ],
   "outputs": [],
   "metadata": {}
  },
  {
   "cell_type": "code",
   "execution_count": 35,
   "source": [
    "\n",
    "ada = AdalineSGD(n_iter=15, eta=0.01, random_state=1)\n",
    "ada.fit(X_std, y)\n",
    "\n",
    "plot_decision_regions(X_std, y, classifier=ada)\n",
    "plt.title('Adaline - Stochastic Gradient Descent')\n",
    "plt.xlabel('sepal length [standardized]')\n",
    "plt.ylabel('petal length [standardized]')\n",
    "plt.legend(loc='upper left')\n",
    "\n",
    "plt.tight_layout()\n",
    "plt.show()\n",
    "\n",
    "plt.plot(range(1, len(ada.cost_) + 1), ada.cost_, marker='o')\n",
    "plt.xlabel('Epochs')\n",
    "plt.ylabel('Average Cost')\n",
    "\n",
    "plt.tight_layout()\n",
    "plt.show()"
   ],
   "outputs": [
    {
     "output_type": "stream",
     "name": "stderr",
     "text": [
      "C:\\Users\\xogns\\AppData\\Local\\Temp/ipykernel_8944/2584310068.py:24: UserWarning: You passed a edgecolor/edgecolors ('black') for an unfilled marker ('x').  Matplotlib is ignoring the edgecolor in favor of the facecolor.  This behavior may change in the future.\n",
      "  plt.scatter(x=X[y == cl, 0],\n"
     ]
    },
    {
     "output_type": "display_data",
     "data": {
      "image/png": "[encoded data removed]",
      "text/plain": [
       "<Figure size 432x288 with 1 Axes>"
      ]
     },
     "metadata": {
      "needs_background": "light"
     }
    },
    {
     "output_type": "display_data",
     "data": {
      "image/png": "[encoded data removed]",
      "text/plain": [
       "<Figure size 432x288 with 1 Axes>"
      ]
     },
     "metadata": {
      "needs_background": "light"
     }
    }
   ],
   "metadata": {}
  },
  {
   "cell_type": "code",
   "execution_count": null,
   "source": [],
   "outputs": [],
   "metadata": {}
  }
 ],
 "metadata": {
  "kernelspec": {
   "name": "python3",
   "display_name": "Python 3.9.5 64-bit"
  },
  "language_info": {
   "codemirror_mode": {
    "name": "ipython",
    "version": 3
   },
   "file_extension": ".py",
   "mimetype": "text/x-python",
   "name": "python",
   "nbconvert_exporter": "python",
   "pygments_lexer": "ipython3",
   "version": "3.9.5"
  },
  "interpreter": {
   "hash": "d22aee8ddc648e200cd3dcdb9ff670c6a65aa2efc884e74e03621835b15261c6"
  }
 },
 "nbformat": 4,
 "nbformat_minor": 5
}